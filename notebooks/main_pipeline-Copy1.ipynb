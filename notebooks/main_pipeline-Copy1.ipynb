{
 "cells": [
  {
   "cell_type": "code",
   "execution_count": 2,
   "id": "0e141d42-153d-4203-852e-cfb716269497",
   "metadata": {},
   "outputs": [],
   "source": [
    "import sys\n",
    "import os\n",
    "import torch\n",
    "\n",
    "sys.path.append(os.path.abspath(\"../utils\"))\n",
    "sys.path.append(os.path.abspath(\"../models\"))\n",
    "sys.path.append(\"/root/Implementation\")  # 假设 scripts 在 /root/scripts 下\n"
   ]
  },
  {
   "cell_type": "code",
   "execution_count": 3,
   "id": "5e1dd37c-096c-4cab-93fe-75c61627d162",
   "metadata": {},
   "outputs": [
    {
     "name": "stderr",
     "output_type": "stream",
     "text": [
      "/root/miniconda/lib/python3.8/site-packages/tqdm/auto.py:21: TqdmWarning: IProgress not found. Please update jupyter and ipywidgets. See https://ipywidgets.readthedocs.io/en/stable/user_install.html\n",
      "  from .autonotebook import tqdm as notebook_tqdm\n",
      "/root/miniconda/lib/python3.8/site-packages/timm/models/layers/__init__.py:48: FutureWarning: Importing from timm.models.layers is deprecated, please import via timm.layers\n",
      "  warnings.warn(f\"Importing from {__name__} is deprecated, please import via timm.layers\", FutureWarning)\n"
     ]
    }
   ],
   "source": [
    "\n",
    "sys.path.append(\"../models\")\n",
    "\n",
    "from simple_cnn import Simple3DCNNEncoder\n",
    "from encoder3D import SparseEncoder\n",
    "from decoder3D import LightDecoder\n",
    "from AnatoMask import SparK"
   ]
  },
  {
   "cell_type": "code",
   "execution_count": 4,
   "id": "a00fa6d7-bcba-4014-94ae-3f2d4eb86d04",
   "metadata": {},
   "outputs": [
    {
     "name": "stdout",
     "output_type": "stream",
     "text": [
      "Using device: cuda\n"
     ]
    }
   ],
   "source": [
    "# ==== 自动选择设备 ====\n",
    "device = torch.device(\"cuda\" if torch.cuda.is_available() else \"cpu\")\n",
    "print(\"Using device:\", device)"
   ]
  },
  {
   "cell_type": "code",
   "execution_count": 5,
   "id": "cf35c70f-9be9-4da7-9582-1e82336f16da",
   "metadata": {},
   "outputs": [
    {
     "name": "stdout",
     "output_type": "stream",
     "text": [
      "[SparK.__init__, densify 1/3]: use nn.Identity() as densify_proj\n",
      "[SparK.__init__, densify 2/3]: densify_proj(ksz=3, #para=0.44M)\n",
      "[SparK.__init__, densify 3/3]: densify_proj(ksz=3, #para=0.11M)\n",
      "[SparK.__init__] dims of mask_tokens=(256, 128, 64)\n",
      "Reconstruction Loss: 1.0135107040405273\n"
     ]
    }
   ],
   "source": [
    "# 假设输入尺寸为 [2, 1, 64, 64, 64]\n",
    "import torch\n",
    "\n",
    "# 初始化模块\n",
    "input_size = (64, 64, 64)\n",
    "cnn = Simple3DCNNEncoder(in_channels=1, base_channels=64)\n",
    "sparse_encoder = SparseEncoder(cnn, input_size=input_size, sbn=False)\n",
    "decoder = LightDecoder(up_sample_ratio=8, width=256, sbn=False)\n",
    "model = SparK(sparse_encoder, decoder, mask_ratio=0.6)\n",
    "\n",
    "# 模拟输入\n",
    "x = torch.randn(2, 1, 64, 64, 64)\n",
    "\n",
    "# 前向传播\n",
    "inp, rec = model(x)\n",
    "\n",
    "# 打印重建误差\n",
    "loss, _ = model.forward_loss(inp, rec, model.mask(x.shape[0], x.device))\n",
    "print(\"Reconstruction Loss:\", loss.item())\n"
   ]
  },
  {
   "cell_type": "code",
   "execution_count": 6,
   "id": "acdb31a4-81a7-48cb-b151-a251e45c1b2a",
   "metadata": {},
   "outputs": [
    {
     "name": "stdout",
     "output_type": "stream",
     "text": [
      "Step 1: loss from random masking: 1.0100849866867065\n",
      "Step 2: loss from AnatoMask-guided masking: 1.0105282068252563\n"
     ]
    }
   ],
   "source": [
    "import torch\n",
    "\n",
    "# 模拟输入\n",
    "x = torch.randn(2, 1, 64, 64, 64)\n",
    "\n",
    "# 1️⃣ 随机 mask\n",
    "random_mask = model.mask(x.shape[0], x.device)\n",
    "\n",
    "# 2️⃣ 用随机掩码做第一次重建，获取 patch 级别 loss\n",
    "inp, rec = model(x, active_b1ff=random_mask)\n",
    "loss, patch_loss = model.forward_loss(inp, rec, random_mask)\n",
    "\n",
    "print(\"Step 1: loss from random masking:\", loss.item())\n",
    "\n",
    "# 3️⃣ 使用 patch loss 生成 AnatoMask 掩码\n",
    "anatomask_mask, _ = model.generate_mask(patch_loss, guide=True, epoch=0, total_epoch=1000)\n",
    "\n",
    "# 4️⃣ 用 AnatoMask 掩码再训练一轮\n",
    "inp2, rec2 = model(x, active_b1ff=anatomask_mask)\n",
    "loss2, _ = model.forward_loss(inp2, rec2, anatomask_mask)\n",
    "\n",
    "print(\"Step 2: loss from AnatoMask-guided masking:\", loss2.item())\n",
    "\n"
   ]
  },
  {
   "cell_type": "code",
   "execution_count": null,
   "id": "1fb6f8f5-2a8f-4cea-8671-a6460ca3bd51",
   "metadata": {},
   "outputs": [],
   "source": []
  },
  {
   "cell_type": "code",
   "execution_count": 7,
   "id": "907c2f80-2e85-48ba-9e47-37c48f2ad393",
   "metadata": {},
   "outputs": [],
   "source": [
    "def save_checkpoint(model, optimizer, epoch, path):\n",
    "    torch.save({\n",
    "        'model_state_dict': model.state_dict(),\n",
    "        'optimizer_state_dict': optimizer.state_dict(),\n",
    "        'epoch': epoch,\n",
    "    }, path)\n",
    "\n",
    "def load_checkpoint(model, optimizer, path, device):\n",
    "    checkpoint = torch.load(path, map_location=device)\n",
    "    model.load_state_dict(checkpoint['model_state_dict'])\n",
    "    optimizer.load_state_dict(checkpoint['optimizer_state_dict'])\n",
    "    epoch = checkpoint['epoch']\n",
    "    return model, optimizer, epoch\n"
   ]
  },
  {
   "cell_type": "code",
   "execution_count": 8,
   "id": "86e64db9-9f4b-4d3d-ba9e-69e4b12a1c5a",
   "metadata": {},
   "outputs": [
    {
     "name": "stdout",
     "output_type": "stream",
     "text": [
      "Using device: cuda\n",
      "[Epoch 1/5] Reconstruction Loss: 1.010636\n",
      "✅ 模型已保存: checkpoints/anatomask_spark.pth\n",
      "[Epoch 2/5] Reconstruction Loss: 1.011408\n",
      "✅ 模型已保存: checkpoints/anatomask_spark.pth\n",
      "[Epoch 3/5] Reconstruction Loss: 1.009250\n",
      "✅ 模型已保存: checkpoints/anatomask_spark.pth\n",
      "[Epoch 4/5] Reconstruction Loss: 1.008616\n",
      "✅ 模型已保存: checkpoints/anatomask_spark.pth\n",
      "[Epoch 5/5] Reconstruction Loss: 1.008428\n",
      "✅ 模型已保存: checkpoints/anatomask_spark.pth\n"
     ]
    }
   ],
   "source": [
    "import torch\n",
    "import torch.optim as optim\n",
    "\n",
    "from checkpoint import save_checkpoint, load_checkpoint\n",
    "\n",
    "# === 保存目录 ===\n",
    "save_path = \"checkpoints/anatomask_spark.pth\"\n",
    "\n",
    "# === 创建保存目录 ===\n",
    "import os\n",
    "os.makedirs(os.path.dirname(save_path), exist_ok=True)\n",
    "\n",
    "# ==== 自动选择设备 ====\n",
    "device = torch.device(\"cuda\" if torch.cuda.is_available() else \"cpu\")\n",
    "print(\"Using device:\", device)\n",
    "\n",
    "# ==== 模型移到 GPU ====\n",
    "model = model.to(device)\n",
    "model.train()\n",
    "\n",
    "# ==== 初始化优化器 ====\n",
    "optimizer = optim.Adam(model.parameters(), lr=1e-4)\n",
    "\n",
    "# ==== 模拟参数（符合真实数据结构）====\n",
    "batch_size = 2\n",
    "in_channels = 1\n",
    "img_size = (64, 64, 64)  # 你后面可以替换为真实 patch size\n",
    "\n",
    "# ==== 开始训练循环 ====\n",
    "epochs = 5\n",
    "\n",
    "loss_history = []\n",
    "for epoch in range(epochs):\n",
    "    # === 模拟输入数据（之后可替换成 DataLoader） ===\n",
    "    x = torch.randn(batch_size, in_channels, *img_size).to(device)\n",
    "\n",
    "    # === 1. 初始随机掩码，用于生成loss map ===\n",
    "    random_mask = model.mask(x.shape[0], device)\n",
    "\n",
    "    # === 2. 第一次 forward，获得 patch-wise loss map ===\n",
    "    inp, rec = model(x, active_b1ff=random_mask)\n",
    "    _, patch_loss = model.forward_loss(inp, rec, random_mask)\n",
    "\n",
    "    # === 3. 生成 anatomask 掩码（loss guided）===\n",
    "    anatomask_mask, _ = model.generate_mask(\n",
    "        loss_pred=patch_loss, guide=True, epoch=epoch, total_epoch=epochs\n",
    "    )\n",
    "\n",
    "    # === 4. 第二次 forward，用 AnatoMask 掩码正式训练 ===\n",
    "    inp2, rec2 = model(x, active_b1ff=anatomask_mask)\n",
    "    loss, _ = model.forward_loss(inp2, rec2, anatomask_mask)\n",
    "\n",
    "    # === 5. 优化 ===\n",
    "    optimizer.zero_grad()\n",
    "    loss.backward()\n",
    "    optimizer.step()\n",
    "\n",
    "    loss_history.append(loss.item())\n",
    "    print(f\"[Epoch {epoch+1}/{epochs}] Reconstruction Loss: {loss.item():.6f}\")\n",
    "        \n",
    "    # === 保存每个 epoch 的模型 ===\n",
    "    save_checkpoint(model, optimizer, epoch, save_path)\n",
    "    print(f\"✅ 模型已保存: {save_path}\")"
   ]
  },
  {
   "cell_type": "code",
   "execution_count": 9,
   "id": "e8a0f256-5903-4896-a1e7-d9cab48c62e2",
   "metadata": {},
   "outputs": [
    {
     "name": "stdout",
     "output_type": "stream",
     "text": [
      "恢复模型成功，从 epoch 5 继续\n"
     ]
    }
   ],
   "source": [
    "# 恢复模型\n",
    "model, optimizer, start_epoch = load_checkpoint(model, optimizer, save_path, device)\n",
    "print(f\"恢复模型成功，从 epoch {start_epoch+1} 继续\")"
   ]
  },
  {
   "cell_type": "code",
   "execution_count": 10,
   "id": "0a4d2176-158d-4cc7-8178-8dfbce15c130",
   "metadata": {},
   "outputs": [
    {
     "data": {
      "image/png": "[encoded data removed]",
      "text/plain": [
       "<Figure size 800x500 with 1 Axes>"
      ]
     },
     "metadata": {},
     "output_type": "display_data"
    }
   ],
   "source": [
    "import matplotlib.pyplot as plt\n",
    "\n",
    "plt.figure(figsize=(8, 5))\n",
    "plt.plot(loss_history, marker='o')\n",
    "plt.xlabel(\"Epoch\")\n",
    "plt.ylabel(\"Reconstruction Loss\")\n",
    "plt.title(\"AnatoMask + SparK Training Loss Curve\")\n",
    "plt.grid(True)\n",
    "plt.show()"
   ]
  },
  {
   "cell_type": "code",
   "execution_count": null,
   "id": "78de846a-ff92-470f-af39-d74bef9c1031",
   "metadata": {},
   "outputs": [],
   "source": []
  },
  {
   "cell_type": "code",
   "execution_count": null,
   "id": "3cc970eb-de10-45e4-b53b-0dd6520b9f2d",
   "metadata": {},
   "outputs": [],
   "source": []
  },
  {
   "cell_type": "code",
   "execution_count": 14,
   "id": "d326f65d-c00e-4939-9a1f-3c39ac1ad311",
   "metadata": {},
   "outputs": [],
   "source": [
    "def train_one_epoch(model, optimizer, device, epoch, total_epochs, dataloader):\n",
    "    model.train()\n",
    "    epoch_loss = []\n",
    "\n",
    "    for x in dataloader:\n",
    "        x = x.to(device)\n",
    "\n",
    "        # mask1 → forward1 → patch_loss\n",
    "        rand_mask = model.mask(x.shape[0], device)\n",
    "        inp, rec = model(x, active_b1ff=rand_mask)\n",
    "        _, patch_loss = model.forward_loss(inp, rec, rand_mask)\n",
    "\n",
    "        # mask2 → forward2 → train\n",
    "        anatomask_mask, _ = model.generate_mask(\n",
    "            patch_loss, guide=True, epoch=epoch, total_epoch=total_epochs\n",
    "        )\n",
    "        inp2, rec2 = model(x, active_b1ff=anatomask_mask)\n",
    "        loss, _ = model.forward_loss(inp2, rec2, anatomask_mask)\n",
    "\n",
    "        optimizer.zero_grad()\n",
    "        loss.backward()\n",
    "        optimizer.step()\n",
    "\n",
    "        epoch_loss.append(loss.item())\n",
    "\n",
    "    return sum(epoch_loss) / len(epoch_loss)\n"
   ]
  },
  {
   "cell_type": "code",
   "execution_count": 15,
   "id": "8c7bd504-e9cd-4bc2-8e2a-123b2db0cd42",
   "metadata": {},
   "outputs": [],
   "source": [
    "def train(model, optimizer, device, epochs, dataloader, save_path=None):\n",
    "    loss_history = []\n",
    "\n",
    "    for epoch in range(epochs):\n",
    "        loss = train_one_epoch(model, optimizer, device, epoch, epochs, dataloader)\n",
    "        loss_history.append(loss)\n",
    "\n",
    "        print(f\"[Epoch {epoch+1}/{epochs}] Loss: {loss:.6f}\")\n",
    "\n",
    "        if save_path:\n",
    "            save_checkpoint(model, optimizer, epoch, save_path)\n",
    "            print(f\"✅ 模型已保存: {save_path}\")\n",
    "\n",
    "    # 画图\n",
    "    import matplotlib.pyplot as plt\n",
    "    plt.plot(loss_history, marker='o')\n",
    "    plt.xlabel(\"Epoch\")\n",
    "    plt.ylabel(\"Loss\")\n",
    "    plt.title(\"Training Loss\")\n",
    "    plt.grid(True)\n",
    "    plt.show()"
   ]
  },
  {
   "cell_type": "code",
   "execution_count": 16,
   "id": "9708aed3-621b-4f38-9a49-a23493499e56",
   "metadata": {},
   "outputs": [
    {
     "name": "stdout",
     "output_type": "stream",
     "text": [
      "[Epoch 1/5] Loss: 0.998991\n",
      "[Epoch 2/5] Loss: 0.998106\n",
      "[Epoch 3/5] Loss: 0.998087\n",
      "[Epoch 4/5] Loss: 0.998080\n",
      "[Epoch 5/5] Loss: 0.998077\n"
     ]
    },
    {
     "data": {
      "image/png": "[encoded data removed]",
      "text/plain": [
       "<Figure size 640x480 with 1 Axes>"
      ]
     },
     "metadata": {},
     "output_type": "display_data"
    }
   ],
   "source": [
    "from torch.utils.data import DataLoader\n",
    "from dummy_dataset import Dummy3DMedicalDataset\n",
    "\n",
    "# 构造数据集和 loader\n",
    "dataset = Dummy3DMedicalDataset(num_samples=100)\n",
    "loader = DataLoader(dataset, batch_size=2, shuffle=True)\n",
    "\n",
    "train(model, optimizer, device, epochs=5, dataloader=loader, save_path=\"checkpoints/spark.pth\")"
   ]
  },
  {
   "cell_type": "code",
   "execution_count": null,
   "id": "a997ce32-09f3-4502-9e04-35cc24e12993",
   "metadata": {},
   "outputs": [],
   "source": []
  },
  {
   "cell_type": "markdown",
   "id": "48a02213-1089-4289-90ef-9484cf710083",
   "metadata": {},
   "source": [
    "# 数据处理"
   ]
  },
  {
   "cell_type": "code",
   "execution_count": 2,
   "id": "22e45540-0226-49a7-b857-3ef8ef0087be",
   "metadata": {},
   "outputs": [
    {
     "name": "stderr",
     "output_type": "stream",
     "text": [
      "Preprocessing AMOS:  23%|██▎       | 50/215 [01:32<03:01,  1.10s/it]"
     ]
    },
    {
     "name": "stdout",
     "output_type": "stream",
     "text": [
      "[❌ ERROR] Skipping amos_0098.nii.gz: Compressed file ended before the end-of-stream marker was reached\n"
     ]
    },
    {
     "name": "stderr",
     "output_type": "stream",
     "text": [
      "Preprocessing AMOS: 100%|██████████| 215/215 [07:00<00:00,  1.95s/it]\n"
     ]
    }
   ],
   "source": [
    "from scripts.preprocess_amos import preprocess_amos_nii_to_npy\n",
    "\n",
    "input_dir = \"/root/lanyun-tmp/amos_dataset/amos22/imagesTr\"\n",
    "output_dir = \"/root/lanyun-tmp/amos_dataset/amos22/npy_patches\"\n",
    "preprocess_amos_nii_to_npy(input_dir, output_dir, patch_size=(64, 64, 64))"
   ]
  },
  {
   "cell_type": "markdown",
   "id": "875d40d3-ff3c-463d-af55-fc5c7e5faaf4",
   "metadata": {},
   "source": [
    "# 1. 导入 + 设置路径"
   ]
  },
  {
   "cell_type": "code",
   "execution_count": 6,
   "id": "5ff20d98-8fb0-48b7-8fe1-3c09a763b4a4",
   "metadata": {},
   "outputs": [],
   "source": [
    "import os\n",
    "import sys\n",
    "import torch\n",
    "from torch.utils.data import DataLoader\n",
    "from torch import optim\n",
    "import matplotlib.pyplot as plt\n",
    "\n",
    "# 添加自定义模块路径\n",
    "sys.path.append(os.path.abspath(\"../utils\"))\n",
    "sys.path.append(os.path.abspath(\"../models\"))\n",
    "sys.path.append(os.path.abspath(\"../scripts\"))\n",
    "sys.path.append(\"/root/Implementation\")  # 假设 scripts 在 /root/scripts 下\n",
    "\n",
    "from train import train\n",
    "from simple_cnn import Simple3DCNNEncoder\n",
    "from decoder3D import LightDecoder\n",
    "from encoder3D import SparseEncoder\n",
    "from AnatoMask import SparK\n",
    "from real_dataset import Real3DMedicalDataset\n",
    "from checkpoint import save_checkpoint, load_checkpoint"
   ]
  },
  {
   "cell_type": "markdown",
   "id": "9ed5822d-f0f5-458c-88d6-f6abee4b4b4a",
   "metadata": {},
   "source": [
    "# 2. 超参数设置"
   ]
  },
  {
   "cell_type": "code",
   "execution_count": 2,
   "id": "ec040721-d036-4920-93fe-bef959b28a0e",
   "metadata": {},
   "outputs": [],
   "source": [
    "# ====== Config ======\n",
    "PATCH_SIZE = (64, 64, 64)\n",
    "BATCH_SIZE = 2\n",
    "EPOCHS = 10\n",
    "LR = 1e-4\n",
    "DATA_DIR = \"/root/lanyun-tmp/amos_dataset/amos22/npy_patches\"\n",
    "CHECKPOINT_PATH = \"checkpoints/anatomask_real.pth\"\n",
    "DEVICE = torch.device(\"cuda\" if torch.cuda.is_available() else \"cpu\")"
   ]
  },
  {
   "cell_type": "markdown",
   "id": "37228098-02f2-4cf6-823e-b2f557b7f25d",
   "metadata": {},
   "source": [
    "#  3. 模型构建"
   ]
  },
  {
   "cell_type": "code",
   "execution_count": 3,
   "id": "919d4a6f-7665-4bfb-bcdc-c796f4d2277d",
   "metadata": {},
   "outputs": [
    {
     "name": "stdout",
     "output_type": "stream",
     "text": [
      "[SparK.__init__, densify 1/3]: use nn.Identity() as densify_proj\n",
      "[SparK.__init__, densify 2/3]: densify_proj(ksz=3, #para=0.44M)\n",
      "[SparK.__init__, densify 3/3]: densify_proj(ksz=3, #para=0.11M)\n",
      "[SparK.__init__] dims of mask_tokens=(256, 128, 64)\n"
     ]
    }
   ],
   "source": [
    "cnn = Simple3DCNNEncoder(in_channels=1, base_channels=64)\n",
    "encoder = SparseEncoder(cnn, input_size=PATCH_SIZE, sbn=False)\n",
    "decoder = LightDecoder(up_sample_ratio=8, width=256, sbn=False)\n",
    "model = SparK(encoder, decoder, mask_ratio=0.6).to(DEVICE)\n",
    "\n",
    "optimizer = optim.Adam(model.parameters(), lr=LR)"
   ]
  },
  {
   "cell_type": "markdown",
   "id": "f2387c42-cdec-4d34-9e1b-bbb2dc546d3c",
   "metadata": {},
   "source": [
    "# 4. 数据加载"
   ]
  },
  {
   "cell_type": "code",
   "execution_count": 4,
   "id": "fbcb56f5-4eb5-426a-975a-8d6ce1ef74e3",
   "metadata": {},
   "outputs": [],
   "source": [
    "dataset = Real3DMedicalDataset(DATA_DIR)\n",
    "loader = DataLoader(dataset, batch_size=BATCH_SIZE, shuffle=True, num_workers=2)"
   ]
  },
  {
   "cell_type": "markdown",
   "id": "f4b4a968-af73-40a5-b1f2-1e729b62b909",
   "metadata": {},
   "source": [
    "# 5. 训练函数封装"
   ]
  },
  {
   "cell_type": "code",
   "execution_count": 5,
   "id": "ced7b92f-24f5-43de-9c6b-df291759c3ac",
   "metadata": {},
   "outputs": [],
   "source": [
    "def train_one_epoch(model, optimizer, device, epoch, total_epochs, dataloader):\n",
    "    model.train()\n",
    "    epoch_loss = []\n",
    "\n",
    "    for x in dataloader:\n",
    "        x = x.to(device)\n",
    "        rand_mask = model.mask(x.shape[0], device)\n",
    "        inp, rec = model(x, active_b1ff=rand_mask)\n",
    "        _, patch_loss = model.forward_loss(inp, rec, rand_mask)\n",
    "\n",
    "        anatomask_mask, _ = model.generate_mask(patch_loss, epoch=epoch, total_epoch=total_epochs)\n",
    "        inp2, rec2 = model(x, active_b1ff=anatomask_mask)\n",
    "        loss, _ = model.forward_loss(inp2, rec2, anatomask_mask)\n",
    "\n",
    "        optimizer.zero_grad()\n",
    "        loss.backward()\n",
    "        optimizer.step()\n",
    "        epoch_loss.append(loss.item())\n",
    "\n",
    "    return sum(epoch_loss) / len(epoch_loss)\n",
    "\n",
    "def train(model, optimizer, device, epochs, dataloader, save_path=None):\n",
    "    loss_history = []\n",
    "    for epoch in range(epochs):\n",
    "        loss = train_one_epoch(model, optimizer, device, epoch, epochs, dataloader)\n",
    "        loss_history.append(loss)\n",
    "        print(f\"[Epoch {epoch+1}/{epochs}] Loss: {loss:.6f}\")\n",
    "        if save_path:\n",
    "            save_checkpoint(model, optimizer, epoch, save_path)\n",
    "            print(f\"✅ 模型已保存: {save_path}\")\n",
    "    plt.plot(loss_history, marker='o')\n",
    "    plt.xlabel(\"Epoch\")\n",
    "    plt.ylabel(\"Loss\")\n",
    "    plt.title(\"Training Loss Curve\")\n",
    "    plt.grid(True)\n",
    "    plt.show()"
   ]
  },
  {
   "cell_type": "markdown",
   "id": "c4eab6a4-18bd-4ed1-9f00-529bea7353f2",
   "metadata": {},
   "source": [
    "# 6. 启动训练"
   ]
  },
  {
   "cell_type": "code",
   "execution_count": null,
   "id": "1da3e2df-d59b-43b3-ae0f-bd20fe35c4ed",
   "metadata": {},
   "outputs": [],
   "source": [
    "train(model, optimizer, DEVICE, epochs=EPOCHS, dataloader=loader, save_path=CHECKPOINT_PATH)"
   ]
  }
 ],
 "metadata": {
  "kernelspec": {
   "display_name": "Python 3 (ipykernel)",
   "language": "python",
   "name": "python3"
  },
  "language_info": {
   "codemirror_mode": {
    "name": "ipython",
    "version": 3
   },
   "file_extension": ".py",
   "mimetype": "text/x-python",
   "name": "python",
   "nbconvert_exporter": "python",
   "pygments_lexer": "ipython3",
   "version": "3.8.18"
  }
 },
 "nbformat": 4,
 "nbformat_minor": 5
}
